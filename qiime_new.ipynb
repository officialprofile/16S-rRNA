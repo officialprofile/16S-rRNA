{
 "cells": [
  {
   "cell_type": "raw",
   "id": "60c4fe61-72c1-4efa-9711-1707596d5d2a",
   "metadata": {
    "tags": []
   },
   "source": [
    "Wczytanie danych, przerobienie na artefakt + wstępna ocena odczytów\n",
    "\n",
    "In:\n",
    "    - sample_data.tsv\n",
    "Out:\n",
    "    - paired-end-demux.qza\n",
    "    \n",
    "In:\n",
    "    - paired-end-demux.qza\n",
    "Out:\n",
    "    - demux.qzv"
   ]
  },
  {
   "cell_type": "code",
   "execution_count": 2,
   "id": "301bef81",
   "metadata": {},
   "outputs": [
    {
     "name": "stdout",
     "output_type": "stream",
     "text": [
      "/media/Data1/Data_Analysis ~\n",
      "Imported sample_data.tsv as PairedEndFastqManifestPhred33V2 to paired-end-demux.qza\n",
      "~\n"
     ]
    }
   ],
   "source": [
    "%%bash \n",
    "pushd /media/Data1/Data_Analysis/\n",
    "\n",
    "qiime tools import \\\n",
    "--type 'SampleData[PairedEndSequencesWithQuality]' \\\n",
    "--input-path sample_data.tsv \\\n",
    "--output-path paired-end-demux.qza \\\n",
    "--input-format PairedEndFastqManifestPhred33V2\n",
    "\n",
    "popd"
   ]
  },
  {
   "cell_type": "code",
   "execution_count": 3,
   "id": "10a1833d-5292-4b10-904d-f40d65e2c505",
   "metadata": {},
   "outputs": [
    {
     "name": "stdout",
     "output_type": "stream",
     "text": [
      "/media/Data1/Data_Analysis ~\n",
      "Saved SampleData[PairedEndSequencesWithQuality] to: trimmed-paired-end-demux.qza\n",
      "~\n"
     ]
    }
   ],
   "source": [
    "%%bash \n",
    "pushd /media/Data1/Data_Analysis/\n",
    "\n",
    "qiime cutadapt trim-paired \\\n",
    "--i-demultiplexed-sequences paired-end-demux.qza \\\n",
    "--p-front-f CCTACGGGAGGCTGCAG \\\n",
    "--p-front-r GACTACAGGGGTATCTAATCC \\\n",
    "--o-trimmed-sequences trimmed-paired-end-demux.qza\n",
    "\n",
    "popd"
   ]
  },
  {
   "cell_type": "code",
   "execution_count": 4,
   "id": "eab222f3-e43a-4b2f-b53c-f3133a38c6ab",
   "metadata": {},
   "outputs": [
    {
     "name": "stdout",
     "output_type": "stream",
     "text": [
      "/media/Data1/Data_Analysis ~\n",
      "Saved Visualization to: demux.qzv\n",
      "~\n"
     ]
    }
   ],
   "source": [
    "%%bash \n",
    "pushd /media/Data1/Data_Analysis/\n",
    "\n",
    "qiime demux summarize \\\n",
    "--i-data trimmed-paired-end-demux.qza \\\n",
    "--o-visualization demux.qzv\n",
    "\n",
    "popd"
   ]
  },
  {
   "cell_type": "code",
   "execution_count": null,
   "id": "d0698f92",
   "metadata": {},
   "outputs": [],
   "source": [
    "Przycinanie + ocena\n",
    "\n",
    "In:\n",
    "    - trimmed-paired-end-demux.qza\n",
    "Out:\n",
    "    - rep-seqs.qza # representative sequences \n",
    "    - table.qza\n",
    "    - dadastats.qza\n",
    "\n",
    "In:\n",
    "    - dadastats.qza\n",
    "Out:\n",
    "    - denoising-stats.qzv\n",
    "\n",
    "In:\n",
    "    - sample_metadata.tsv\n",
    "    - table.qza\n",
    "Out:\n",
    "    - table.qzv\n",
    "\n",
    "In:\n",
    "    - rep-seqs.qza\n",
    "Out:\n",
    "    - rep-seqs.qzv"
   ]
  },
  {
   "cell_type": "code",
   "execution_count": 14,
   "id": "d2942c72",
   "metadata": {},
   "outputs": [
    {
     "name": "stdout",
     "output_type": "stream",
     "text": [
      "/media/Data1/Data_Analysis ~\n",
      "Saved FeatureTable[Frequency] to: table.qza\n",
      "Saved FeatureData[Sequence] to: rep-seqs.qza\n",
      "Saved SampleData[DADA2Stats] to: dadastats.qza\n",
      "Saved Visualization to: denoising-stats.qzv\n",
      "Saved Visualization to: table.qzv\n",
      "Saved Visualization to: rep-seqs.qzv\n",
      "~\n"
     ]
    }
   ],
   "source": [
    "%%bash \n",
    "pushd /media/Data1/Data_Analysis/\n",
    "\n",
    "qiime dada2 denoise-paired \\\n",
    "--i-demultiplexed-seqs trimmed-paired-end-demux.qza \\\n",
    "--p-trim-left-f 0 \\\n",
    "--p-trim-left-r 0 \\\n",
    "--p-trunc-len-f 270 \\\n",
    "--p-trunc-len-r 170 \\\n",
    "--p-n-threads 12 \\\n",
    "--o-representative-sequences rep-seqs.qza \\\n",
    "--o-table table.qza \\\n",
    "--o-denoising-stats dadastats.qza\n",
    "\n",
    "qiime metadata tabulate \\\n",
    "  --m-input-file dadastats.qza \\\n",
    "  --o-visualization denoising-stats.qzv\n",
    "  \n",
    "qiime feature-table summarize \\\n",
    "  --i-table table.qza \\\n",
    "  --o-visualization table.qzv \\\n",
    "  --m-sample-metadata-file sample_metadata.tsv\n",
    "\n",
    "qiime feature-table tabulate-seqs \\\n",
    "  --i-data rep-seqs.qza \\\n",
    "  --o-visualization rep-seqs.qzv\n",
    "\n",
    "popd"
   ]
  },
  {
   "cell_type": "code",
   "execution_count": null,
   "id": "2bc94a80-6a31-43c6-ab05-8980d126a902",
   "metadata": {},
   "outputs": [],
   "source": [
    "#qiime tools export --input-path Analysis/denoising-stats.qza --output-path Analysis/dada2_output"
   ]
  },
  {
   "cell_type": "code",
   "execution_count": null,
   "id": "804e4722",
   "metadata": {},
   "outputs": [],
   "source": [
    "SILVA zamist greegenes"
   ]
  },
  {
   "cell_type": "code",
   "execution_count": 9,
   "id": "078d4e30",
   "metadata": {},
   "outputs": [
    {
     "name": "stdout",
     "output_type": "stream",
     "text": [
      "/media/Data1/Data_Analysis ~\n",
      "Imported /home/amnesia/SILVA_132_QIIME_release/rep_set/rep_set_16S_only/99/silva_132_99_16S.fna as DNASequencesDirectoryFormat to 99_otus_16S\n",
      "Imported /home/amnesia/SILVA_132_QIIME_release/taxonomy/16S_only/99/majority_taxonomy_7_levels.txt as HeaderlessTSVTaxonomyFormat to majority_taxonomy_7_levels\n",
      "~\n"
     ]
    }
   ],
   "source": [
    "%%bash\n",
    "pushd /media/Data1/Data_Analysis/\n",
    "\n",
    "qiime tools import \\\n",
    " --type FeatureData[Sequence] \\\n",
    " --input-path $HOME/SILVA_132_QIIME_release/rep_set/rep_set_16S_only/99/silva_132_99_16S.fna \\\n",
    " --output-path 99_otus_16S\n",
    "\n",
    "qiime tools import \\\n",
    "--type FeatureData[Taxonomy] \\\n",
    "--input-path $HOME/SILVA_132_QIIME_release/taxonomy/16S_only/99/majority_taxonomy_7_levels.txt \\\n",
    "--input-format HeaderlessTSVTaxonomyFormat \\\n",
    "--output-path majority_taxonomy_7_levels\n",
    "\n",
    "popd"
   ]
  },
  {
   "cell_type": "code",
   "execution_count": 15,
   "id": "3fb40170",
   "metadata": {},
   "outputs": [
    {
     "name": "stdout",
     "output_type": "stream",
     "text": [
      "/media/Data1/Data_Analysis ~\n",
      "Saved FeatureData[Taxonomy] to: taxonomy.qza\n",
      "~\n"
     ]
    }
   ],
   "source": [
    "%%bash\n",
    "pushd /media/Data1/Data_Analysis/\n",
    "\n",
    "qiime feature-classifier classify-consensus-blast \\\n",
    "--i-query rep-seqs.qza \\\n",
    "--i-reference-taxonomy majority_taxonomy_7_levels.qza \\\n",
    "--i-reference-reads 99_otus_16S.qza \\\n",
    "--o-classification taxonomy \\\n",
    "--p-perc-identity 0.90 \\\n",
    "--p-maxaccepts 1\n",
    "\n",
    "popd"
   ]
  },
  {
   "cell_type": "code",
   "execution_count": 16,
   "id": "227f10b2",
   "metadata": {},
   "outputs": [
    {
     "name": "stdout",
     "output_type": "stream",
     "text": [
      "/media/Data1/Data_Analysis ~\n",
      "Saved Visualization to: alpha-rarefaction.qzv\n",
      "~\n"
     ]
    }
   ],
   "source": [
    "%%bash\n",
    "pushd /media/Data1/Data_Analysis/\n",
    "\n",
    "qiime diversity alpha-rarefaction \\\n",
    "  --i-table table.qza \\\n",
    "  --i-phylogeny rooted-tree.qza \\\n",
    "  --p-max-depth 23000 \\\n",
    "  --m-metadata-file sample_metadata.tsv \\\n",
    "  --o-visualization alpha-rarefaction.qzv\n",
    "\n",
    "popd"
   ]
  },
  {
   "cell_type": "code",
   "execution_count": 17,
   "id": "e32a411f-f070-4670-97e1-4f405c67eb94",
   "metadata": {},
   "outputs": [
    {
     "name": "stdout",
     "output_type": "stream",
     "text": [
      "/media/Data1/Data_Analysis ~\n",
      "Saved Visualization to: weighted-unifrac.qzv\n",
      "~\n"
     ]
    }
   ],
   "source": [
    "%%bash\n",
    "pushd /media/Data1/Data_Analysis/\n",
    "\n",
    "qiime diversity beta-rarefaction \\\n",
    "--i-table table.qza \\\n",
    "--p-metric weighted_unifrac \\\n",
    "--p-clustering-method nj \\\n",
    "--m-metadata-file sample_metadata.tsv \\\n",
    "--p-sampling-depth 23000 \\\n",
    "--i-phylogeny rooted-tree.qza \\\n",
    "--o-visualization weighted-unifrac.qzv\n",
    "\n",
    "popd"
   ]
  },
  {
   "cell_type": "code",
   "execution_count": 12,
   "id": "747e93b1",
   "metadata": {},
   "outputs": [
    {
     "name": "stdout",
     "output_type": "stream",
     "text": [
      "/media/Data1/Data_Analysis ~\n",
      "Saved FeatureData[AlignedSequence] to: aligned-rep-seqs.qza\n",
      "Saved FeatureData[AlignedSequence] to: masked-aligned-rep-seqs.qza\n",
      "Saved Phylogeny[Unrooted] to: unrooted-tree.qza\n",
      "Saved Phylogeny[Rooted] to: rooted-tree.qza\n",
      "~\n"
     ]
    }
   ],
   "source": [
    "%%bash \n",
    "pushd /media/Data1/Data_Analysis/\n",
    "\n",
    "qiime phylogeny align-to-tree-mafft-fasttree \\\n",
    "  --i-sequences rep-seqs.qza \\\n",
    "  --o-alignment aligned-rep-seqs.qza \\\n",
    "  --o-masked-alignment masked-aligned-rep-seqs.qza \\\n",
    "  --o-tree unrooted-tree.qza \\\n",
    "  --o-rooted-tree rooted-tree.qza\n",
    "  \n",
    "popd"
   ]
  },
  {
   "cell_type": "code",
   "execution_count": null,
   "id": "ecbef08a",
   "metadata": {},
   "outputs": [],
   "source": []
  },
  {
   "cell_type": "code",
   "execution_count": null,
   "id": "5ff5a3b9",
   "metadata": {},
   "outputs": [],
   "source": []
  },
  {
   "cell_type": "code",
   "execution_count": null,
   "id": "7d390673",
   "metadata": {},
   "outputs": [],
   "source": []
  },
  {
   "cell_type": "code",
   "execution_count": 7,
   "id": "5645775a",
   "metadata": {},
   "outputs": [
    {
     "ename": "AttributeError",
     "evalue": "module 'dokdo.dokdo' has no attribute 'denoising_stats_plot'",
     "output_type": "error",
     "traceback": [
      "\u001b[0;31m---------------------------------------------------------------------------\u001b[0m",
      "\u001b[0;31mAttributeError\u001b[0m                            Traceback (most recent call last)",
      "Input \u001b[0;32mIn [7]\u001b[0m, in \u001b[0;36m<cell line: 4>\u001b[0;34m()\u001b[0m\n\u001b[1;32m      1\u001b[0m qza_file \u001b[38;5;241m=\u001b[39m \u001b[38;5;124m'\u001b[39m\u001b[38;5;124mdadastats.qza\u001b[39m\u001b[38;5;124m'\u001b[39m\n\u001b[1;32m      2\u001b[0m metadata_file \u001b[38;5;241m=\u001b[39m \u001b[38;5;124m'\u001b[39m\u001b[38;5;124msample_metadata.tsv\u001b[39m\u001b[38;5;124m'\u001b[39m\n\u001b[0;32m----> 4\u001b[0m \u001b[43mdokdo\u001b[49m\u001b[38;5;241;43m.\u001b[39;49m\u001b[43mdenoising_stats_plot\u001b[49m(\n\u001b[1;32m      5\u001b[0m     qza_file,\n\u001b[1;32m      6\u001b[0m     metadata_file,\n\u001b[1;32m      7\u001b[0m     \u001b[38;5;124m'\u001b[39m\u001b[38;5;124mgroup\u001b[39m\u001b[38;5;124m'\u001b[39m,\n\u001b[1;32m      8\u001b[0m     figsize\u001b[38;5;241m=\u001b[39m(\u001b[38;5;241m8\u001b[39m, \u001b[38;5;241m6\u001b[39m)\n\u001b[1;32m      9\u001b[0m )\n\u001b[1;32m     11\u001b[0m plt\u001b[38;5;241m.\u001b[39mtight_layout()\n",
      "\u001b[0;31mAttributeError\u001b[0m: module 'dokdo.dokdo' has no attribute 'denoising_stats_plot'"
     ]
    }
   ],
   "source": [
    "qza_file = 'dadastats.qza'\n",
    "metadata_file = 'sample_metadata.tsv'\n",
    "\n",
    "dokdo.denoising_stats_plot(\n",
    "    qza_file,\n",
    "    metadata_file,\n",
    "    'group',\n",
    "    figsize=(8, 6)\n",
    ")\n",
    "\n",
    "plt.tight_layout()"
   ]
  },
  {
   "cell_type": "code",
   "execution_count": null,
   "id": "f1a74417-7c51-40a0-838b-0dcac7483867",
   "metadata": {},
   "outputs": [],
   "source": []
  }
 ],
 "metadata": {
  "kernelspec": {
   "display_name": "Python [conda env:qiime2-2022.2]",
   "language": "python",
   "name": "conda-env-qiime2-2022.2-py"
  },
  "language_info": {
   "codemirror_mode": {
    "name": "ipython",
    "version": 3
   },
   "file_extension": ".py",
   "mimetype": "text/x-python",
   "name": "python",
   "nbconvert_exporter": "python",
   "pygments_lexer": "ipython3",
   "version": "3.8.13"
  }
 },
 "nbformat": 4,
 "nbformat_minor": 5
}
